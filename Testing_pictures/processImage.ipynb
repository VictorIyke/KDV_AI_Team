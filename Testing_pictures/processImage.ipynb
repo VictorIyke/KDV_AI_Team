{
 "cells": [
  {
   "cell_type": "code",
   "execution_count": 1,
   "id": "d200d551",
   "metadata": {},
   "outputs": [],
   "source": [
    "import os\n",
    "import numpy as np \n",
    "from PIL import Image"
   ]
  },
  {
   "cell_type": "code",
   "execution_count": 2,
   "id": "caec1423",
   "metadata": {},
   "outputs": [],
   "source": [
    "def preprocess_image(image, height: int, width: int, all_channels: bool = True):\n",
    "    image_res = image.resize((width, height), Image.ANTIALIAS)  # Resizes Image to given width/height\n",
    "\n",
    "    if not all_channels:  # For models who process all R'G'B' components of the input image data\n",
    "        image_res = image_res.convert(\"YCbCr\")\n",
    "        y, cb_img, cr_img = image_res.split()\n",
    "        y_arr = np.asarray(y).astype(np.float32)\n",
    "        y_arr /= 255.0\n",
    "        y_arr = np.expand_dims(np.expand_dims(y_arr, 0), 0)\n",
    "        return y_arr, cb_img, cr_img\n",
    "    else:  # For models who process all R'G'B' components of the input image data\n",
    "        image_res = image_res.convert(\"RGB\")\n",
    "        image_d = np.asarray(image_res).astype(\n",
    "            np.float32)  # Transforms image to a [H,W,C] array format.i.e. (128,128,3)\n",
    "        image_data = image_d.transpose([2, 0, 1])  # transpose to [C,H,W] format\n",
    "        image_dat = np.expand_dims(image_data / 255, axis=0)\n",
    "        return image_dat"
   ]
  },
  {
   "cell_type": "code",
   "execution_count": 3,
   "id": "85bed4f0",
   "metadata": {},
   "outputs": [],
   "source": [
    "def postprocess_image(image_arr, cb=None, cr=None):\n",
    "    image_arr = image_arr[0]\n",
    "    image_arr *= 255.0\n",
    "    image_arr = image_arr.clip(0, 255)\n",
    "\n",
    "    if cb is not None and cr is not None:  # For models who process all R'G'B' components of the input image data\n",
    "        y = Image.fromarray(np.uint8(image_arr)[0], mode=\"L\")\n",
    "        cb = cb.resize((y.size[0], y.size[1]), Image.ANTIALIAS)\n",
    "        cr = cr.resize((y.size[0], y.size[1]), Image.ANTIALIAS)\n",
    "        post_img = Image.merge(\"YCbCr\",\n",
    "                               [y, cb, cr]).convert(\"RGB\")\n",
    "        return post_img\n",
    "    else:  # For models who process all R'G'B' components of the input image data\n",
    "        red, green, blue = image_arr\n",
    "        red = Image.fromarray(np.uint8(red), mode=\"L\")\n",
    "        green = Image.fromarray(np.uint8(green), mode=\"L\")\n",
    "        blue = Image.fromarray(np.uint8(blue), mode=\"L\")\n",
    "        post_img = Image.merge(\"RGB\",\n",
    "                               [red, green, blue])\n",
    "        return post_img\n"
   ]
  },
  {
   "cell_type": "code",
   "execution_count": 4,
   "id": "b2be224f",
   "metadata": {
    "scrolled": true
   },
   "outputs": [
    {
     "data": {
      "text/plain": [
       "\"\\nThe 'preprocess_image' function takes in 4 arguments: \\n    image(PIL.Image.Image)- The image data in picture format;\\n    height(Int)- The resized height dimension\\n    width(Int)- The resized width dimension\\n    all_channels(Bool)- Optional argument. Specifies if the model processes all the image data channels or just one channel;\\n    \\n    if 'all_channels' is true, returns a [1, 3, height, width] array; \\n        else returns a union tuple containing a [1,1,height,width] array, blue-difference, and red-difference component of the image data.\\n\\nThe 'postprocess_image' function takes in 3 arguments:\\n    image_arr(numpy.ndarray)- The processed image data in array format;\\n    cb(PIL.Image.Image)- Optional argument for the blue-difference component of image data. Use if model works on only one component of the image data; \\n    cr(PIL.Image.Image)- Optional argument for the red-difference component of image data. Use if model works on only one component of the image data;\\n    \\n    returns the processed image data in picture format\\n\\n\""
      ]
     },
     "execution_count": 4,
     "metadata": {},
     "output_type": "execute_result"
    }
   ],
   "source": [
    "\"\"\"\n",
    "The 'preprocess_image' function takes in 4 arguments: \n",
    "    image(PIL.Image.Image)- The image data in picture format;\n",
    "    height(Int)- The resized height dimension\n",
    "    width(Int)- The resized width dimension\n",
    "    all_channels(Bool)- Optional argument. Specifies if the model processes all the image data channels or just one channel;\n",
    "    \n",
    "    if 'all_channels' is true, returns a [1, 3, height, width] array; \n",
    "        else returns a union tuple containing a [1,1,height,width] array, blue-difference, and red-difference component of the image data.\n",
    "\n",
    "The 'postprocess_image' function takes in 3 arguments:\n",
    "    image_arr(numpy.ndarray)- The processed image data in array format;\n",
    "    cb(PIL.Image.Image)- Optional argument for the blue-difference component of image data. Use if model works on only one component of the image data; \n",
    "    cr(PIL.Image.Image)- Optional argument for the red-difference component of image data. Use if model works on only one component of the image data;\n",
    "    \n",
    "    returns the processed image data in picture format\n",
    "\n",
    "\"\"\" \n",
    "\n"
   ]
  },
  {
   "cell_type": "code",
   "execution_count": null,
   "id": "cc896b10",
   "metadata": {},
   "outputs": [],
   "source": []
  }
 ],
 "metadata": {
  "kernelspec": {
   "display_name": "Python 3 (ipykernel)",
   "language": "python",
   "name": "python3"
  },
  "language_info": {
   "codemirror_mode": {
    "name": "ipython",
    "version": 3
   },
   "file_extension": ".py",
   "mimetype": "text/x-python",
   "name": "python",
   "nbconvert_exporter": "python",
   "pygments_lexer": "ipython3",
   "version": "3.8.13"
  }
 },
 "nbformat": 4,
 "nbformat_minor": 5
}
